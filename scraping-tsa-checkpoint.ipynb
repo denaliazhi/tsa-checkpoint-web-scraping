{
 "cells": [
  {
   "cell_type": "markdown",
   "source": [
    "# **Scraping TSA Checkpoint Travel Numbers**"
   ],
   "metadata": {}
  },
  {
   "cell_type": "code",
   "execution_count": 6,
   "source": [
    "# import libraries to be used\r\n",
    "import requests\r\n",
    "from bs4 import BeautifulSoup\r\n",
    "import pandas as pd\r\n",
    "\r\n",
    "# url of the page that we want to scrape\r\n",
    "url = \"https://www.tsa.gov/coronavirus/passenger-throughput\"\r\n",
    "\r\n",
    "# send a request to the server to retrieve the page's html\r\n",
    "r = requests.get(url)\r\n",
    "\r\n",
    "soup = BeautifulSoup(r.text, 'html.parser')"
   ],
   "outputs": [],
   "metadata": {}
  },
  {
   "cell_type": "code",
   "execution_count": 13,
   "source": [
    "# isolate the table containing daily checkpoint travel count\r\n",
    "table = soup.find('table')\r\n",
    "# create an empty list to store the column labels\r\n",
    "headings = []\r\n",
    "\r\n",
    "# loop through the table headers and add each to the list\r\n",
    "for th in table.find_all('th'):\r\n",
    "    label = th.text.strip()\r\n",
    "    headings.append(label)\r\n",
    "\r\n",
    "headings"
   ],
   "outputs": [
    {
     "output_type": "execute_result",
     "data": {
      "text/plain": [
       "['Date',\n",
       " '2021 Traveler Throughput',\n",
       " '2020 Traveler Throughput',\n",
       " '2019 Traveler Throughput']"
      ]
     },
     "metadata": {},
     "execution_count": 13
    }
   ],
   "metadata": {}
  },
  {
   "cell_type": "code",
   "execution_count": 20,
   "source": [
    "new_headings = ['Month', 'Day', '2021', '2020', '2019']\r\n",
    "# create a pandas dataframe with the headers as column labels\r\n",
    "df = pd.DataFrame(columns = new_headings)\r\n",
    "\r\n",
    "# loop through the table rows\r\n",
    "for tr in table.find_all('tr')[1:]:\r\n",
    "        # retrieve the table data\r\n",
    "        data = tr.find_all('td')\r\n",
    "        cells = [i.text.strip() for i in data]\r\n",
    "\r\n",
    "        # parse date column to separate month and day\r\n",
    "        separated = cells[0].split(\"/\")\r\n",
    "        cells.insert(0, separated[0])\r\n",
    "        cells[1] = separated[1]\r\n",
    "        # discard year\r\n",
    "\r\n",
    "        # return number of rows in data frame\r\n",
    "        length = len(df)\r\n",
    "        # store the table data in new row in the data frame\r\n",
    "        df.loc[length] = cells"
   ],
   "outputs": [],
   "metadata": {}
  },
  {
   "cell_type": "code",
   "execution_count": 22,
   "source": [
    "# export dataframe as csv file\r\n",
    "df.to_csv('airportdata.csv')"
   ],
   "outputs": [],
   "metadata": {}
  }
 ],
 "metadata": {
  "orig_nbformat": 4,
  "language_info": {
   "name": "python",
   "version": "3.7.10",
   "mimetype": "text/x-python",
   "codemirror_mode": {
    "name": "ipython",
    "version": 3
   },
   "pygments_lexer": "ipython3",
   "nbconvert_exporter": "python",
   "file_extension": ".py"
  },
  "kernelspec": {
   "name": "python3",
   "display_name": "Python 3.7.10 64-bit ('myenv': conda)"
  },
  "interpreter": {
   "hash": "0afa5fb1f07dfc64f01b6ea406ae15532fcfd1597e0c95271f9eab747fa7e80d"
  }
 },
 "nbformat": 4,
 "nbformat_minor": 2
}
